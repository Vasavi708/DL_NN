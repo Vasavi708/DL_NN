{
  "nbformat": 4,
  "nbformat_minor": 0,
  "metadata": {
    "colab": {
      "name": "DL_NN.ipynb",
      "provenance": [],
      "collapsed_sections": [],
      "authorship_tag": "ABX9TyOVKfUaF8EGruW/n8a+G3w3",
      "include_colab_link": true
    },
    "kernelspec": {
      "name": "python3",
      "display_name": "Python 3"
    },
    "language_info": {
      "name": "python"
    }
  },
  "cells": [
    {
      "cell_type": "markdown",
      "metadata": {
        "id": "view-in-github",
        "colab_type": "text"
      },
      "source": [
        "<a href=\"https://colab.research.google.com/github/Vasavi708/DL_NN/blob/main/DL_NN.ipynb\" target=\"_parent\"><img src=\"https://colab.research.google.com/assets/colab-badge.svg\" alt=\"Open In Colab\"/></a>"
      ]
    },
    {
      "cell_type": "code",
      "execution_count": 2,
      "metadata": {
        "id": "mqWZoK3yBhCX"
      },
      "outputs": [],
      "source": [
        "import pandas as pan\n",
        "import numpy as num"
      ]
    },
    {
      "cell_type": "code",
      "source": [
        "from tensorflow.keras.layers import Dense"
      ],
      "metadata": {
        "id": "LIs6SLoDBt5B"
      },
      "execution_count": 5,
      "outputs": []
    },
    {
      "cell_type": "code",
      "source": [
        "!pip install tensorflow"
      ],
      "metadata": {
        "colab": {
          "base_uri": "https://localhost:8080/"
        },
        "id": "V3PgBtxRCHH7",
        "outputId": "5d953091-9759-48a0-d91b-2c3356476ca5"
      },
      "execution_count": 7,
      "outputs": [
        {
          "output_type": "stream",
          "name": "stdout",
          "text": [
            "Requirement already satisfied: tensorflow in /usr/local/lib/python3.7/dist-packages (2.8.0)\n",
            "Requirement already satisfied: h5py>=2.9.0 in /usr/local/lib/python3.7/dist-packages (from tensorflow) (3.1.0)\n",
            "Requirement already satisfied: six>=1.12.0 in /usr/local/lib/python3.7/dist-packages (from tensorflow) (1.15.0)\n",
            "Requirement already satisfied: termcolor>=1.1.0 in /usr/local/lib/python3.7/dist-packages (from tensorflow) (1.1.0)\n",
            "Requirement already satisfied: grpcio<2.0,>=1.24.3 in /usr/local/lib/python3.7/dist-packages (from tensorflow) (1.44.0)\n",
            "Requirement already satisfied: keras-preprocessing>=1.1.1 in /usr/local/lib/python3.7/dist-packages (from tensorflow) (1.1.2)\n",
            "Requirement already satisfied: astunparse>=1.6.0 in /usr/local/lib/python3.7/dist-packages (from tensorflow) (1.6.3)\n",
            "Requirement already satisfied: opt-einsum>=2.3.2 in /usr/local/lib/python3.7/dist-packages (from tensorflow) (3.3.0)\n",
            "Requirement already satisfied: gast>=0.2.1 in /usr/local/lib/python3.7/dist-packages (from tensorflow) (0.5.3)\n",
            "Requirement already satisfied: flatbuffers>=1.12 in /usr/local/lib/python3.7/dist-packages (from tensorflow) (2.0)\n",
            "Collecting tf-estimator-nightly==2.8.0.dev2021122109\n",
            "  Downloading tf_estimator_nightly-2.8.0.dev2021122109-py2.py3-none-any.whl (462 kB)\n",
            "\u001b[K     |████████████████████████████████| 462 kB 5.1 MB/s \n",
            "\u001b[?25hRequirement already satisfied: tensorflow-io-gcs-filesystem>=0.23.1 in /usr/local/lib/python3.7/dist-packages (from tensorflow) (0.25.0)\n",
            "Requirement already satisfied: tensorboard<2.9,>=2.8 in /usr/local/lib/python3.7/dist-packages (from tensorflow) (2.8.0)\n",
            "Requirement already satisfied: absl-py>=0.4.0 in /usr/local/lib/python3.7/dist-packages (from tensorflow) (1.0.0)\n",
            "Requirement already satisfied: typing-extensions>=3.6.6 in /usr/local/lib/python3.7/dist-packages (from tensorflow) (4.2.0)\n",
            "Requirement already satisfied: keras<2.9,>=2.8.0rc0 in /usr/local/lib/python3.7/dist-packages (from tensorflow) (2.8.0)\n",
            "Requirement already satisfied: setuptools in /usr/local/lib/python3.7/dist-packages (from tensorflow) (57.4.0)\n",
            "Requirement already satisfied: wrapt>=1.11.0 in /usr/local/lib/python3.7/dist-packages (from tensorflow) (1.14.0)\n",
            "Requirement already satisfied: libclang>=9.0.1 in /usr/local/lib/python3.7/dist-packages (from tensorflow) (14.0.1)\n",
            "Requirement already satisfied: google-pasta>=0.1.1 in /usr/local/lib/python3.7/dist-packages (from tensorflow) (0.2.0)\n",
            "Requirement already satisfied: numpy>=1.20 in /usr/local/lib/python3.7/dist-packages (from tensorflow) (1.21.6)\n",
            "Requirement already satisfied: protobuf>=3.9.2 in /usr/local/lib/python3.7/dist-packages (from tensorflow) (3.17.3)\n",
            "Requirement already satisfied: wheel<1.0,>=0.23.0 in /usr/local/lib/python3.7/dist-packages (from astunparse>=1.6.0->tensorflow) (0.37.1)\n",
            "Requirement already satisfied: cached-property in /usr/local/lib/python3.7/dist-packages (from h5py>=2.9.0->tensorflow) (1.5.2)\n",
            "Requirement already satisfied: google-auth-oauthlib<0.5,>=0.4.1 in /usr/local/lib/python3.7/dist-packages (from tensorboard<2.9,>=2.8->tensorflow) (0.4.6)\n",
            "Requirement already satisfied: tensorboard-plugin-wit>=1.6.0 in /usr/local/lib/python3.7/dist-packages (from tensorboard<2.9,>=2.8->tensorflow) (1.8.1)\n",
            "Requirement already satisfied: markdown>=2.6.8 in /usr/local/lib/python3.7/dist-packages (from tensorboard<2.9,>=2.8->tensorflow) (3.3.6)\n",
            "Requirement already satisfied: tensorboard-data-server<0.7.0,>=0.6.0 in /usr/local/lib/python3.7/dist-packages (from tensorboard<2.9,>=2.8->tensorflow) (0.6.1)\n",
            "Requirement already satisfied: werkzeug>=0.11.15 in /usr/local/lib/python3.7/dist-packages (from tensorboard<2.9,>=2.8->tensorflow) (1.0.1)\n",
            "Requirement already satisfied: requests<3,>=2.21.0 in /usr/local/lib/python3.7/dist-packages (from tensorboard<2.9,>=2.8->tensorflow) (2.23.0)\n",
            "Requirement already satisfied: google-auth<3,>=1.6.3 in /usr/local/lib/python3.7/dist-packages (from tensorboard<2.9,>=2.8->tensorflow) (1.35.0)\n",
            "Requirement already satisfied: rsa<5,>=3.1.4 in /usr/local/lib/python3.7/dist-packages (from google-auth<3,>=1.6.3->tensorboard<2.9,>=2.8->tensorflow) (4.8)\n",
            "Requirement already satisfied: pyasn1-modules>=0.2.1 in /usr/local/lib/python3.7/dist-packages (from google-auth<3,>=1.6.3->tensorboard<2.9,>=2.8->tensorflow) (0.2.8)\n",
            "Requirement already satisfied: cachetools<5.0,>=2.0.0 in /usr/local/lib/python3.7/dist-packages (from google-auth<3,>=1.6.3->tensorboard<2.9,>=2.8->tensorflow) (4.2.4)\n",
            "Requirement already satisfied: requests-oauthlib>=0.7.0 in /usr/local/lib/python3.7/dist-packages (from google-auth-oauthlib<0.5,>=0.4.1->tensorboard<2.9,>=2.8->tensorflow) (1.3.1)\n",
            "Requirement already satisfied: importlib-metadata>=4.4 in /usr/local/lib/python3.7/dist-packages (from markdown>=2.6.8->tensorboard<2.9,>=2.8->tensorflow) (4.11.3)\n",
            "Requirement already satisfied: zipp>=0.5 in /usr/local/lib/python3.7/dist-packages (from importlib-metadata>=4.4->markdown>=2.6.8->tensorboard<2.9,>=2.8->tensorflow) (3.8.0)\n",
            "Requirement already satisfied: pyasn1<0.5.0,>=0.4.6 in /usr/local/lib/python3.7/dist-packages (from pyasn1-modules>=0.2.1->google-auth<3,>=1.6.3->tensorboard<2.9,>=2.8->tensorflow) (0.4.8)\n",
            "Requirement already satisfied: urllib3!=1.25.0,!=1.25.1,<1.26,>=1.21.1 in /usr/local/lib/python3.7/dist-packages (from requests<3,>=2.21.0->tensorboard<2.9,>=2.8->tensorflow) (1.24.3)\n",
            "Requirement already satisfied: idna<3,>=2.5 in /usr/local/lib/python3.7/dist-packages (from requests<3,>=2.21.0->tensorboard<2.9,>=2.8->tensorflow) (2.10)\n",
            "Requirement already satisfied: certifi>=2017.4.17 in /usr/local/lib/python3.7/dist-packages (from requests<3,>=2.21.0->tensorboard<2.9,>=2.8->tensorflow) (2021.10.8)\n",
            "Requirement already satisfied: chardet<4,>=3.0.2 in /usr/local/lib/python3.7/dist-packages (from requests<3,>=2.21.0->tensorboard<2.9,>=2.8->tensorflow) (3.0.4)\n",
            "Requirement already satisfied: oauthlib>=3.0.0 in /usr/local/lib/python3.7/dist-packages (from requests-oauthlib>=0.7.0->google-auth-oauthlib<0.5,>=0.4.1->tensorboard<2.9,>=2.8->tensorflow) (3.2.0)\n",
            "Installing collected packages: tf-estimator-nightly\n",
            "Successfully installed tf-estimator-nightly-2.8.0.dev2021122109\n"
          ]
        }
      ]
    },
    {
      "cell_type": "code",
      "source": [
        "from tensorflow.keras.models import Sequential"
      ],
      "metadata": {
        "id": "QOhdsmwECaUW"
      },
      "execution_count": 8,
      "outputs": []
    },
    {
      "cell_type": "code",
      "source": [
        "from tensorflow.keras.utils import to_categorical"
      ],
      "metadata": {
        "id": "4-H33EepC3Oh"
      },
      "execution_count": 9,
      "outputs": []
    },
    {
      "cell_type": "markdown",
      "source": [
        ""
      ],
      "metadata": {
        "id": "Y_rgVCc5DJzA"
      }
    },
    {
      "cell_type": "code",
      "source": [
        "from sklearn.datasets import load_iris"
      ],
      "metadata": {
        "id": "zWwETJk0C3hx"
      },
      "execution_count": 10,
      "outputs": []
    },
    {
      "cell_type": "code",
      "source": [
        "data = load_iris()"
      ],
      "metadata": {
        "id": "FOegfHNGDM3H"
      },
      "execution_count": 11,
      "outputs": []
    },
    {
      "cell_type": "code",
      "source": [
        "features = data['data']\n",
        "classes = data['target']"
      ],
      "metadata": {
        "id": "RSVAIyrxDNNO"
      },
      "execution_count": 12,
      "outputs": []
    },
    {
      "cell_type": "code",
      "source": [
        "classes\n"
      ],
      "metadata": {
        "colab": {
          "base_uri": "https://localhost:8080/"
        },
        "id": "cvxFWUWeDNR2",
        "outputId": "f53cec20-8deb-4605-a563-d0771826157b"
      },
      "execution_count": 104,
      "outputs": [
        {
          "output_type": "execute_result",
          "data": {
            "text/plain": [
              "array([[5.1, 3.5, 1.4, 0.2],\n",
              "       [4.9, 3. , 1.4, 0.2],\n",
              "       [4.7, 3.2, 1.3, 0.2],\n",
              "       [4.6, 3.1, 1.5, 0.2],\n",
              "       [5. , 3.6, 1.4, 0.2],\n",
              "       [5.4, 3.9, 1.7, 0.4],\n",
              "       [4.6, 3.4, 1.4, 0.3],\n",
              "       [5. , 3.4, 1.5, 0.2],\n",
              "       [4.4, 2.9, 1.4, 0.2],\n",
              "       [4.9, 3.1, 1.5, 0.1],\n",
              "       [5.4, 3.7, 1.5, 0.2],\n",
              "       [4.8, 3.4, 1.6, 0.2],\n",
              "       [4.8, 3. , 1.4, 0.1],\n",
              "       [4.3, 3. , 1.1, 0.1],\n",
              "       [5.8, 4. , 1.2, 0.2],\n",
              "       [5.7, 4.4, 1.5, 0.4],\n",
              "       [5.4, 3.9, 1.3, 0.4],\n",
              "       [5.1, 3.5, 1.4, 0.3],\n",
              "       [5.7, 3.8, 1.7, 0.3],\n",
              "       [5.1, 3.8, 1.5, 0.3],\n",
              "       [5.4, 3.4, 1.7, 0.2],\n",
              "       [5.1, 3.7, 1.5, 0.4],\n",
              "       [4.6, 3.6, 1. , 0.2],\n",
              "       [5.1, 3.3, 1.7, 0.5],\n",
              "       [4.8, 3.4, 1.9, 0.2],\n",
              "       [5. , 3. , 1.6, 0.2],\n",
              "       [5. , 3.4, 1.6, 0.4],\n",
              "       [5.2, 3.5, 1.5, 0.2],\n",
              "       [5.2, 3.4, 1.4, 0.2],\n",
              "       [4.7, 3.2, 1.6, 0.2],\n",
              "       [4.8, 3.1, 1.6, 0.2],\n",
              "       [5.4, 3.4, 1.5, 0.4],\n",
              "       [5.2, 4.1, 1.5, 0.1],\n",
              "       [5.5, 4.2, 1.4, 0.2],\n",
              "       [4.9, 3.1, 1.5, 0.2],\n",
              "       [5. , 3.2, 1.2, 0.2],\n",
              "       [5.5, 3.5, 1.3, 0.2],\n",
              "       [4.9, 3.6, 1.4, 0.1],\n",
              "       [4.4, 3. , 1.3, 0.2],\n",
              "       [5.1, 3.4, 1.5, 0.2],\n",
              "       [5. , 3.5, 1.3, 0.3],\n",
              "       [4.5, 2.3, 1.3, 0.3],\n",
              "       [4.4, 3.2, 1.3, 0.2],\n",
              "       [5. , 3.5, 1.6, 0.6],\n",
              "       [5.1, 3.8, 1.9, 0.4],\n",
              "       [4.8, 3. , 1.4, 0.3],\n",
              "       [5.1, 3.8, 1.6, 0.2],\n",
              "       [4.6, 3.2, 1.4, 0.2],\n",
              "       [5.3, 3.7, 1.5, 0.2],\n",
              "       [5. , 3.3, 1.4, 0.2],\n",
              "       [7. , 3.2, 4.7, 1.4],\n",
              "       [6.4, 3.2, 4.5, 1.5],\n",
              "       [6.9, 3.1, 4.9, 1.5],\n",
              "       [5.5, 2.3, 4. , 1.3],\n",
              "       [6.5, 2.8, 4.6, 1.5],\n",
              "       [5.7, 2.8, 4.5, 1.3],\n",
              "       [6.3, 3.3, 4.7, 1.6],\n",
              "       [4.9, 2.4, 3.3, 1. ],\n",
              "       [6.6, 2.9, 4.6, 1.3],\n",
              "       [5.2, 2.7, 3.9, 1.4],\n",
              "       [5. , 2. , 3.5, 1. ],\n",
              "       [5.9, 3. , 4.2, 1.5],\n",
              "       [6. , 2.2, 4. , 1. ],\n",
              "       [6.1, 2.9, 4.7, 1.4],\n",
              "       [5.6, 2.9, 3.6, 1.3],\n",
              "       [6.7, 3.1, 4.4, 1.4],\n",
              "       [5.6, 3. , 4.5, 1.5],\n",
              "       [5.8, 2.7, 4.1, 1. ],\n",
              "       [6.2, 2.2, 4.5, 1.5],\n",
              "       [5.6, 2.5, 3.9, 1.1],\n",
              "       [5.9, 3.2, 4.8, 1.8],\n",
              "       [6.1, 2.8, 4. , 1.3],\n",
              "       [6.3, 2.5, 4.9, 1.5],\n",
              "       [6.1, 2.8, 4.7, 1.2],\n",
              "       [6.4, 2.9, 4.3, 1.3],\n",
              "       [6.6, 3. , 4.4, 1.4],\n",
              "       [6.8, 2.8, 4.8, 1.4],\n",
              "       [6.7, 3. , 5. , 1.7],\n",
              "       [6. , 2.9, 4.5, 1.5],\n",
              "       [5.7, 2.6, 3.5, 1. ],\n",
              "       [5.5, 2.4, 3.8, 1.1],\n",
              "       [5.5, 2.4, 3.7, 1. ],\n",
              "       [5.8, 2.7, 3.9, 1.2],\n",
              "       [6. , 2.7, 5.1, 1.6],\n",
              "       [5.4, 3. , 4.5, 1.5],\n",
              "       [6. , 3.4, 4.5, 1.6],\n",
              "       [6.7, 3.1, 4.7, 1.5],\n",
              "       [6.3, 2.3, 4.4, 1.3],\n",
              "       [5.6, 3. , 4.1, 1.3],\n",
              "       [5.5, 2.5, 4. , 1.3],\n",
              "       [5.5, 2.6, 4.4, 1.2],\n",
              "       [6.1, 3. , 4.6, 1.4],\n",
              "       [5.8, 2.6, 4. , 1.2],\n",
              "       [5. , 2.3, 3.3, 1. ],\n",
              "       [5.6, 2.7, 4.2, 1.3],\n",
              "       [5.7, 3. , 4.2, 1.2],\n",
              "       [5.7, 2.9, 4.2, 1.3],\n",
              "       [6.2, 2.9, 4.3, 1.3],\n",
              "       [5.1, 2.5, 3. , 1.1],\n",
              "       [5.7, 2.8, 4.1, 1.3],\n",
              "       [6.3, 3.3, 6. , 2.5],\n",
              "       [5.8, 2.7, 5.1, 1.9],\n",
              "       [7.1, 3. , 5.9, 2.1],\n",
              "       [6.3, 2.9, 5.6, 1.8],\n",
              "       [6.5, 3. , 5.8, 2.2],\n",
              "       [7.6, 3. , 6.6, 2.1],\n",
              "       [4.9, 2.5, 4.5, 1.7],\n",
              "       [7.3, 2.9, 6.3, 1.8],\n",
              "       [6.7, 2.5, 5.8, 1.8],\n",
              "       [7.2, 3.6, 6.1, 2.5],\n",
              "       [6.5, 3.2, 5.1, 2. ],\n",
              "       [6.4, 2.7, 5.3, 1.9],\n",
              "       [6.8, 3. , 5.5, 2.1],\n",
              "       [5.7, 2.5, 5. , 2. ],\n",
              "       [5.8, 2.8, 5.1, 2.4],\n",
              "       [6.4, 3.2, 5.3, 2.3],\n",
              "       [6.5, 3. , 5.5, 1.8],\n",
              "       [7.7, 3.8, 6.7, 2.2],\n",
              "       [7.7, 2.6, 6.9, 2.3],\n",
              "       [6. , 2.2, 5. , 1.5],\n",
              "       [6.9, 3.2, 5.7, 2.3],\n",
              "       [5.6, 2.8, 4.9, 2. ],\n",
              "       [7.7, 2.8, 6.7, 2. ],\n",
              "       [6.3, 2.7, 4.9, 1.8],\n",
              "       [6.7, 3.3, 5.7, 2.1],\n",
              "       [7.2, 3.2, 6. , 1.8],\n",
              "       [6.2, 2.8, 4.8, 1.8],\n",
              "       [6.1, 3. , 4.9, 1.8],\n",
              "       [6.4, 2.8, 5.6, 2.1],\n",
              "       [7.2, 3. , 5.8, 1.6],\n",
              "       [7.4, 2.8, 6.1, 1.9],\n",
              "       [7.9, 3.8, 6.4, 2. ],\n",
              "       [6.4, 2.8, 5.6, 2.2],\n",
              "       [6.3, 2.8, 5.1, 1.5],\n",
              "       [6.1, 2.6, 5.6, 1.4],\n",
              "       [7.7, 3. , 6.1, 2.3],\n",
              "       [6.3, 3.4, 5.6, 2.4],\n",
              "       [6.4, 3.1, 5.5, 1.8],\n",
              "       [6. , 3. , 4.8, 1.8],\n",
              "       [6.9, 3.1, 5.4, 2.1],\n",
              "       [6.7, 3.1, 5.6, 2.4],\n",
              "       [6.9, 3.1, 5.1, 2.3],\n",
              "       [5.8, 2.7, 5.1, 1.9],\n",
              "       [6.8, 3.2, 5.9, 2.3],\n",
              "       [6.7, 3.3, 5.7, 2.5],\n",
              "       [6.7, 3. , 5.2, 2.3],\n",
              "       [6.3, 2.5, 5. , 1.9],\n",
              "       [6.5, 3. , 5.2, 2. ],\n",
              "       [6.2, 3.4, 5.4, 2.3],\n",
              "       [5.9, 3. , 5.1, 1.8]])"
            ]
          },
          "metadata": {},
          "execution_count": 104
        }
      ]
    },
    {
      "cell_type": "code",
      "source": [
        "target = to_categorical(classes, num_classes = 3)\n",
        "target"
      ],
      "metadata": {
        "colab": {
          "base_uri": "https://localhost:8080/"
        },
        "id": "yNoCMre1C3lC",
        "outputId": "e51c923d-70be-4e1e-f999-ab38a73abb9a"
      },
      "execution_count": 74,
      "outputs": [
        {
          "output_type": "execute_result",
          "data": {
            "text/plain": [
              "array([[1., 0., 0.],\n",
              "       [1., 0., 0.],\n",
              "       [1., 0., 0.],\n",
              "       [1., 0., 0.],\n",
              "       [1., 0., 0.],\n",
              "       [1., 0., 0.],\n",
              "       [1., 0., 0.],\n",
              "       [1., 0., 0.],\n",
              "       [1., 0., 0.],\n",
              "       [1., 0., 0.],\n",
              "       [1., 0., 0.],\n",
              "       [1., 0., 0.],\n",
              "       [1., 0., 0.],\n",
              "       [1., 0., 0.],\n",
              "       [1., 0., 0.],\n",
              "       [1., 0., 0.],\n",
              "       [1., 0., 0.],\n",
              "       [1., 0., 0.],\n",
              "       [1., 0., 0.],\n",
              "       [1., 0., 0.],\n",
              "       [1., 0., 0.],\n",
              "       [1., 0., 0.],\n",
              "       [1., 0., 0.],\n",
              "       [1., 0., 0.],\n",
              "       [1., 0., 0.],\n",
              "       [1., 0., 0.],\n",
              "       [1., 0., 0.],\n",
              "       [1., 0., 0.],\n",
              "       [1., 0., 0.],\n",
              "       [1., 0., 0.],\n",
              "       [1., 0., 0.],\n",
              "       [1., 0., 0.],\n",
              "       [1., 0., 0.],\n",
              "       [1., 0., 0.],\n",
              "       [1., 0., 0.],\n",
              "       [1., 0., 0.],\n",
              "       [1., 0., 0.],\n",
              "       [1., 0., 0.],\n",
              "       [1., 0., 0.],\n",
              "       [1., 0., 0.],\n",
              "       [1., 0., 0.],\n",
              "       [1., 0., 0.],\n",
              "       [1., 0., 0.],\n",
              "       [1., 0., 0.],\n",
              "       [1., 0., 0.],\n",
              "       [1., 0., 0.],\n",
              "       [1., 0., 0.],\n",
              "       [1., 0., 0.],\n",
              "       [1., 0., 0.],\n",
              "       [1., 0., 0.],\n",
              "       [0., 1., 0.],\n",
              "       [0., 1., 0.],\n",
              "       [0., 1., 0.],\n",
              "       [0., 1., 0.],\n",
              "       [0., 1., 0.],\n",
              "       [0., 1., 0.],\n",
              "       [0., 1., 0.],\n",
              "       [0., 1., 0.],\n",
              "       [0., 1., 0.],\n",
              "       [0., 1., 0.],\n",
              "       [0., 1., 0.],\n",
              "       [0., 1., 0.],\n",
              "       [0., 1., 0.],\n",
              "       [0., 1., 0.],\n",
              "       [0., 1., 0.],\n",
              "       [0., 1., 0.],\n",
              "       [0., 1., 0.],\n",
              "       [0., 1., 0.],\n",
              "       [0., 1., 0.],\n",
              "       [0., 1., 0.],\n",
              "       [0., 1., 0.],\n",
              "       [0., 1., 0.],\n",
              "       [0., 1., 0.],\n",
              "       [0., 1., 0.],\n",
              "       [0., 1., 0.],\n",
              "       [0., 1., 0.],\n",
              "       [0., 1., 0.],\n",
              "       [0., 1., 0.],\n",
              "       [0., 1., 0.],\n",
              "       [0., 1., 0.],\n",
              "       [0., 1., 0.],\n",
              "       [0., 1., 0.],\n",
              "       [0., 1., 0.],\n",
              "       [0., 1., 0.],\n",
              "       [0., 1., 0.],\n",
              "       [0., 1., 0.],\n",
              "       [0., 1., 0.],\n",
              "       [0., 1., 0.],\n",
              "       [0., 1., 0.],\n",
              "       [0., 1., 0.],\n",
              "       [0., 1., 0.],\n",
              "       [0., 1., 0.],\n",
              "       [0., 1., 0.],\n",
              "       [0., 1., 0.],\n",
              "       [0., 1., 0.],\n",
              "       [0., 1., 0.],\n",
              "       [0., 1., 0.],\n",
              "       [0., 1., 0.],\n",
              "       [0., 1., 0.],\n",
              "       [0., 1., 0.],\n",
              "       [0., 0., 1.],\n",
              "       [0., 0., 1.],\n",
              "       [0., 0., 1.],\n",
              "       [0., 0., 1.],\n",
              "       [0., 0., 1.],\n",
              "       [0., 0., 1.],\n",
              "       [0., 0., 1.],\n",
              "       [0., 0., 1.],\n",
              "       [0., 0., 1.],\n",
              "       [0., 0., 1.],\n",
              "       [0., 0., 1.],\n",
              "       [0., 0., 1.],\n",
              "       [0., 0., 1.],\n",
              "       [0., 0., 1.],\n",
              "       [0., 0., 1.],\n",
              "       [0., 0., 1.],\n",
              "       [0., 0., 1.],\n",
              "       [0., 0., 1.],\n",
              "       [0., 0., 1.],\n",
              "       [0., 0., 1.],\n",
              "       [0., 0., 1.],\n",
              "       [0., 0., 1.],\n",
              "       [0., 0., 1.],\n",
              "       [0., 0., 1.],\n",
              "       [0., 0., 1.],\n",
              "       [0., 0., 1.],\n",
              "       [0., 0., 1.],\n",
              "       [0., 0., 1.],\n",
              "       [0., 0., 1.],\n",
              "       [0., 0., 1.],\n",
              "       [0., 0., 1.],\n",
              "       [0., 0., 1.],\n",
              "       [0., 0., 1.],\n",
              "       [0., 0., 1.],\n",
              "       [0., 0., 1.],\n",
              "       [0., 0., 1.],\n",
              "       [0., 0., 1.],\n",
              "       [0., 0., 1.],\n",
              "       [0., 0., 1.],\n",
              "       [0., 0., 1.],\n",
              "       [0., 0., 1.],\n",
              "       [0., 0., 1.],\n",
              "       [0., 0., 1.],\n",
              "       [0., 0., 1.],\n",
              "       [0., 0., 1.],\n",
              "       [0., 0., 1.],\n",
              "       [0., 0., 1.],\n",
              "       [0., 0., 1.],\n",
              "       [0., 0., 1.],\n",
              "       [0., 0., 1.]], dtype=float32)"
            ]
          },
          "metadata": {},
          "execution_count": 74
        }
      ]
    },
    {
      "cell_type": "code",
      "source": [
        "classes.shape\n",
        "features.shape\n",
        "features.shape[1]"
      ],
      "metadata": {
        "colab": {
          "base_uri": "https://localhost:8080/"
        },
        "id": "LN2RlNp2E4Md",
        "outputId": "1a25dd1e-fd48-4abe-a49d-b6d3a5dc82f7"
      },
      "execution_count": 22,
      "outputs": [
        {
          "output_type": "execute_result",
          "data": {
            "text/plain": [
              "4"
            ]
          },
          "metadata": {},
          "execution_count": 22
        }
      ]
    },
    {
      "cell_type": "code",
      "source": [
        "from sklearn.model_selection import train_test_split"
      ],
      "metadata": {
        "id": "wjJbElycDpqg"
      },
      "execution_count": 24,
      "outputs": []
    },
    {
      "cell_type": "code",
      "source": [
        "x_train,x_test,y_train,y_test = train_test_split(features,target)\n",
        "x_train,x_val,y_train,y_val = train_test_split(x_train,y_train)"
      ],
      "metadata": {
        "id": "XIqgxGegDqF-"
      },
      "execution_count": 25,
      "outputs": []
    },
    {
      "cell_type": "code",
      "source": [
        "model = Sequential()"
      ],
      "metadata": {
        "id": "bERhATm4HVa8"
      },
      "execution_count": 26,
      "outputs": []
    },
    {
      "cell_type": "code",
      "source": [
        "model.add(Dense(300,input_shape = (features.shape[1],)))\n",
        "model.add(Dense(100,activation = 'relu'))\n",
        "model.add(Dense(50,activation = 'relu'))\n",
        "model.add(Dense(30, activation = 'relu'))\n",
        "model.add(Dense(15,activation = 'relu'))\n",
        "model.add(Dense(3,activation = 'softmax'))\n"
      ],
      "metadata": {
        "id": "CD4eotpQIEcW"
      },
      "execution_count": 33,
      "outputs": []
    },
    {
      "cell_type": "code",
      "source": [
        "model.summary()"
      ],
      "metadata": {
        "colab": {
          "base_uri": "https://localhost:8080/"
        },
        "id": "1L1mLyTkIErn",
        "outputId": "029e27af-fc40-4ba1-c2d3-b2e52f25f052"
      },
      "execution_count": 35,
      "outputs": [
        {
          "output_type": "stream",
          "name": "stdout",
          "text": [
            "Model: \"sequential\"\n",
            "_________________________________________________________________\n",
            " Layer (type)                Output Shape              Param #   \n",
            "=================================================================\n",
            " dense_2 (Dense)             (None, 100)               500       \n",
            "                                                                 \n",
            " dense_3 (Dense)             (None, 300)               30300     \n",
            "                                                                 \n",
            " dense_5 (Dense)             (None, 300)               90300     \n",
            "                                                                 \n",
            " dense_6 (Dense)             (None, 300)               90300     \n",
            "                                                                 \n",
            " dense_7 (Dense)             (None, 100)               30100     \n",
            "                                                                 \n",
            " dense_8 (Dense)             (None, 50)                5050      \n",
            "                                                                 \n",
            " dense_9 (Dense)             (None, 30)                1530      \n",
            "                                                                 \n",
            " dense_10 (Dense)            (None, 15)                465       \n",
            "                                                                 \n",
            " dense_11 (Dense)            (None, 3)                 48        \n",
            "                                                                 \n",
            "=================================================================\n",
            "Total params: 248,593\n",
            "Trainable params: 248,593\n",
            "Non-trainable params: 0\n",
            "_________________________________________________________________\n"
          ]
        }
      ]
    },
    {
      "cell_type": "code",
      "source": [
        "import tensorflow\n",
        "model.compile(optimizer = 'sgd', loss = tensorflow.keras.losses.CategoricalCrossentropy(),\n",
        "              metrics = ['accuracy'])"
      ],
      "metadata": {
        "id": "N39LEXx7MP-v"
      },
      "execution_count": 41,
      "outputs": []
    },
    {
      "cell_type": "code",
      "source": [
        "model.fit(x_train,y_train,epochs=50,validation_data = (x_val,y_val))"
      ],
      "metadata": {
        "colab": {
          "base_uri": "https://localhost:8080/"
        },
        "id": "-Bz80VCJMQIj",
        "outputId": "320853c6-16ad-4c85-f787-4e2d445b1583"
      },
      "execution_count": 43,
      "outputs": [
        {
          "output_type": "stream",
          "name": "stdout",
          "text": [
            "Epoch 1/50\n",
            "3/3 [==============================] - 2s 196ms/step - loss: 1.0103 - accuracy: 0.2738 - val_loss: 1.1004 - val_accuracy: 0.1429\n",
            "Epoch 2/50\n",
            "3/3 [==============================] - 0s 28ms/step - loss: 1.0019 - accuracy: 0.4286 - val_loss: 1.0710 - val_accuracy: 0.1429\n",
            "Epoch 3/50\n",
            "3/3 [==============================] - 0s 25ms/step - loss: 0.8993 - accuracy: 0.4286 - val_loss: 1.1022 - val_accuracy: 0.4286\n",
            "Epoch 4/50\n",
            "3/3 [==============================] - 0s 27ms/step - loss: 0.9018 - accuracy: 0.3929 - val_loss: 0.9838 - val_accuracy: 0.1429\n",
            "Epoch 5/50\n",
            "3/3 [==============================] - 0s 35ms/step - loss: 0.8421 - accuracy: 0.4405 - val_loss: 1.0092 - val_accuracy: 0.1429\n",
            "Epoch 6/50\n",
            "3/3 [==============================] - 0s 27ms/step - loss: 0.8221 - accuracy: 0.4286 - val_loss: 0.8833 - val_accuracy: 0.6786\n",
            "Epoch 7/50\n",
            "3/3 [==============================] - 0s 35ms/step - loss: 0.8310 - accuracy: 0.7024 - val_loss: 0.8808 - val_accuracy: 0.3571\n",
            "Epoch 8/50\n",
            "3/3 [==============================] - 0s 39ms/step - loss: 0.7652 - accuracy: 0.6071 - val_loss: 0.8459 - val_accuracy: 0.5714\n",
            "Epoch 9/50\n",
            "3/3 [==============================] - 0s 28ms/step - loss: 0.7750 - accuracy: 0.6190 - val_loss: 0.8585 - val_accuracy: 0.5714\n",
            "Epoch 10/50\n",
            "3/3 [==============================] - 0s 29ms/step - loss: 0.7309 - accuracy: 0.7381 - val_loss: 0.9466 - val_accuracy: 0.5357\n",
            "Epoch 11/50\n",
            "3/3 [==============================] - 0s 28ms/step - loss: 0.7313 - accuracy: 0.7024 - val_loss: 0.8616 - val_accuracy: 0.5357\n",
            "Epoch 12/50\n",
            "3/3 [==============================] - 0s 28ms/step - loss: 0.6934 - accuracy: 0.6905 - val_loss: 0.9072 - val_accuracy: 0.5357\n",
            "Epoch 13/50\n",
            "3/3 [==============================] - 0s 27ms/step - loss: 0.6962 - accuracy: 0.7619 - val_loss: 0.9231 - val_accuracy: 0.5714\n",
            "Epoch 14/50\n",
            "3/3 [==============================] - 0s 29ms/step - loss: 0.7062 - accuracy: 0.7262 - val_loss: 0.8031 - val_accuracy: 0.5714\n",
            "Epoch 15/50\n",
            "3/3 [==============================] - 0s 31ms/step - loss: 0.6469 - accuracy: 0.7024 - val_loss: 0.7188 - val_accuracy: 0.8929\n",
            "Epoch 16/50\n",
            "3/3 [==============================] - 0s 36ms/step - loss: 0.6532 - accuracy: 0.8214 - val_loss: 0.9213 - val_accuracy: 0.5357\n",
            "Epoch 17/50\n",
            "3/3 [==============================] - 0s 26ms/step - loss: 0.6582 - accuracy: 0.7976 - val_loss: 0.8055 - val_accuracy: 0.5714\n",
            "Epoch 18/50\n",
            "3/3 [==============================] - 0s 28ms/step - loss: 0.6779 - accuracy: 0.6667 - val_loss: 0.7880 - val_accuracy: 0.5714\n",
            "Epoch 19/50\n",
            "3/3 [==============================] - 0s 34ms/step - loss: 0.6164 - accuracy: 0.7381 - val_loss: 0.6858 - val_accuracy: 0.7500\n",
            "Epoch 20/50\n",
            "3/3 [==============================] - 0s 33ms/step - loss: 0.5787 - accuracy: 0.7381 - val_loss: 0.6371 - val_accuracy: 0.8571\n",
            "Epoch 21/50\n",
            "3/3 [==============================] - 0s 25ms/step - loss: 0.5770 - accuracy: 0.8452 - val_loss: 0.6171 - val_accuracy: 0.8571\n",
            "Epoch 22/50\n",
            "3/3 [==============================] - 0s 25ms/step - loss: 0.5509 - accuracy: 0.7738 - val_loss: 0.5854 - val_accuracy: 0.9286\n",
            "Epoch 23/50\n",
            "3/3 [==============================] - 0s 29ms/step - loss: 0.5576 - accuracy: 0.8452 - val_loss: 0.6621 - val_accuracy: 0.6429\n",
            "Epoch 24/50\n",
            "3/3 [==============================] - 0s 29ms/step - loss: 0.5212 - accuracy: 0.8333 - val_loss: 0.6250 - val_accuracy: 0.6786\n",
            "Epoch 25/50\n",
            "3/3 [==============================] - 0s 30ms/step - loss: 0.4988 - accuracy: 0.8690 - val_loss: 0.6260 - val_accuracy: 0.6071\n",
            "Epoch 26/50\n",
            "3/3 [==============================] - 0s 31ms/step - loss: 0.5039 - accuracy: 0.8214 - val_loss: 0.5330 - val_accuracy: 0.8571\n",
            "Epoch 27/50\n",
            "3/3 [==============================] - 0s 30ms/step - loss: 0.4665 - accuracy: 0.8810 - val_loss: 0.6398 - val_accuracy: 0.6071\n",
            "Epoch 28/50\n",
            "3/3 [==============================] - 0s 30ms/step - loss: 0.5944 - accuracy: 0.6667 - val_loss: 0.4980 - val_accuracy: 0.8571\n",
            "Epoch 29/50\n",
            "3/3 [==============================] - 0s 27ms/step - loss: 0.5715 - accuracy: 0.7262 - val_loss: 1.0000 - val_accuracy: 0.5714\n",
            "Epoch 30/50\n",
            "3/3 [==============================] - 0s 37ms/step - loss: 0.6978 - accuracy: 0.6667 - val_loss: 0.5025 - val_accuracy: 0.8571\n",
            "Epoch 31/50\n",
            "3/3 [==============================] - 0s 28ms/step - loss: 0.4354 - accuracy: 0.8214 - val_loss: 0.4524 - val_accuracy: 0.8571\n",
            "Epoch 32/50\n",
            "3/3 [==============================] - 0s 28ms/step - loss: 0.4534 - accuracy: 0.7500 - val_loss: 0.4084 - val_accuracy: 0.8929\n",
            "Epoch 33/50\n",
            "3/3 [==============================] - 0s 29ms/step - loss: 0.4680 - accuracy: 0.7857 - val_loss: 0.5237 - val_accuracy: 0.7500\n",
            "Epoch 34/50\n",
            "3/3 [==============================] - 0s 30ms/step - loss: 0.5061 - accuracy: 0.7619 - val_loss: 0.3634 - val_accuracy: 0.9643\n",
            "Epoch 35/50\n",
            "3/3 [==============================] - 0s 32ms/step - loss: 0.5044 - accuracy: 0.6905 - val_loss: 1.1305 - val_accuracy: 0.5714\n",
            "Epoch 36/50\n",
            "3/3 [==============================] - 0s 26ms/step - loss: 0.6228 - accuracy: 0.8333 - val_loss: 0.6884 - val_accuracy: 0.5714\n",
            "Epoch 37/50\n",
            "3/3 [==============================] - 0s 24ms/step - loss: 0.4596 - accuracy: 0.7857 - val_loss: 0.3390 - val_accuracy: 0.9643\n",
            "Epoch 38/50\n",
            "3/3 [==============================] - 0s 30ms/step - loss: 0.3611 - accuracy: 0.9524 - val_loss: 0.3437 - val_accuracy: 0.8929\n",
            "Epoch 39/50\n",
            "3/3 [==============================] - 0s 26ms/step - loss: 0.3765 - accuracy: 0.9167 - val_loss: 0.3238 - val_accuracy: 0.8929\n",
            "Epoch 40/50\n",
            "3/3 [==============================] - 0s 30ms/step - loss: 0.3967 - accuracy: 0.8333 - val_loss: 0.5454 - val_accuracy: 0.6429\n",
            "Epoch 41/50\n",
            "3/3 [==============================] - 0s 25ms/step - loss: 0.6393 - accuracy: 0.6310 - val_loss: 0.3871 - val_accuracy: 0.8571\n",
            "Epoch 42/50\n",
            "3/3 [==============================] - 0s 41ms/step - loss: 0.4851 - accuracy: 0.8214 - val_loss: 0.3348 - val_accuracy: 0.8929\n",
            "Epoch 43/50\n",
            "3/3 [==============================] - 0s 24ms/step - loss: 0.4612 - accuracy: 0.7619 - val_loss: 0.3206 - val_accuracy: 0.8929\n",
            "Epoch 44/50\n",
            "3/3 [==============================] - 0s 23ms/step - loss: 0.6224 - accuracy: 0.7024 - val_loss: 0.3195 - val_accuracy: 0.9286\n",
            "Epoch 45/50\n",
            "3/3 [==============================] - 0s 40ms/step - loss: 0.3286 - accuracy: 0.9762 - val_loss: 0.3866 - val_accuracy: 0.8571\n",
            "Epoch 46/50\n",
            "3/3 [==============================] - 0s 46ms/step - loss: 0.4503 - accuracy: 0.7857 - val_loss: 0.3274 - val_accuracy: 0.8929\n",
            "Epoch 47/50\n",
            "3/3 [==============================] - 0s 25ms/step - loss: 0.5933 - accuracy: 0.7024 - val_loss: 0.3114 - val_accuracy: 0.8929\n",
            "Epoch 48/50\n",
            "3/3 [==============================] - 0s 31ms/step - loss: 0.3174 - accuracy: 0.9405 - val_loss: 0.2519 - val_accuracy: 0.9643\n",
            "Epoch 49/50\n",
            "3/3 [==============================] - 0s 27ms/step - loss: 0.3230 - accuracy: 0.8929 - val_loss: 0.4791 - val_accuracy: 0.7143\n",
            "Epoch 50/50\n",
            "3/3 [==============================] - 0s 23ms/step - loss: 0.4011 - accuracy: 0.7619 - val_loss: 0.2399 - val_accuracy: 1.0000\n"
          ]
        },
        {
          "output_type": "execute_result",
          "data": {
            "text/plain": [
              "<keras.callbacks.History at 0x7fea52eb9d10>"
            ]
          },
          "metadata": {},
          "execution_count": 43
        }
      ]
    },
    {
      "cell_type": "code",
      "source": [
        "y_pred = model.predict(x_test)\n",
        "y_pred\n",
        "y_pred_ =num.argmax(y_pred,axis = 1)\n",
        "print(y_pred_)\n",
        "y_pred_1 = []\n",
        "for i in y_pred:\n",
        "  y_pred_1.append(num.argmax(i))\n",
        "y_pred_1"
      ],
      "metadata": {
        "colab": {
          "base_uri": "https://localhost:8080/"
        },
        "id": "0xdG2ElwPBNy",
        "outputId": "9769ba67-62c8-4756-edda-11017dfb3d1e"
      },
      "execution_count": 79,
      "outputs": [
        {
          "output_type": "stream",
          "name": "stdout",
          "text": [
            "[0 2 1 0 2 0 2 0 1 1 1 1 1 0 0 1 2 0 1 0 1 0 0 2 2 1 0 1 2 1 0 1 1 0 0 2 2\n",
            " 0]\n"
          ]
        },
        {
          "output_type": "execute_result",
          "data": {
            "text/plain": [
              "[0,\n",
              " 2,\n",
              " 1,\n",
              " 0,\n",
              " 2,\n",
              " 0,\n",
              " 2,\n",
              " 0,\n",
              " 1,\n",
              " 1,\n",
              " 1,\n",
              " 1,\n",
              " 1,\n",
              " 0,\n",
              " 0,\n",
              " 1,\n",
              " 2,\n",
              " 0,\n",
              " 1,\n",
              " 0,\n",
              " 1,\n",
              " 0,\n",
              " 0,\n",
              " 2,\n",
              " 2,\n",
              " 1,\n",
              " 0,\n",
              " 1,\n",
              " 2,\n",
              " 1,\n",
              " 0,\n",
              " 1,\n",
              " 1,\n",
              " 0,\n",
              " 0,\n",
              " 2,\n",
              " 2,\n",
              " 0]"
            ]
          },
          "metadata": {},
          "execution_count": 79
        }
      ]
    },
    {
      "cell_type": "code",
      "source": [
        "from sklearn.metrics import accuracy_score"
      ],
      "metadata": {
        "id": "h0oIjiQrQrzs"
      },
      "execution_count": 53,
      "outputs": []
    },
    {
      "cell_type": "code",
      "source": [
        "y_test_ = []\n",
        "for i in y_test:\n",
        "  y_test_.append(num.argmax(i))\n",
        "y_test_  \n"
      ],
      "metadata": {
        "colab": {
          "base_uri": "https://localhost:8080/"
        },
        "id": "jfRPKQ_pScX2",
        "outputId": "ad7ebba3-d0f0-4000-9ee4-62fc45ae5c42"
      },
      "execution_count": 65,
      "outputs": [
        {
          "output_type": "execute_result",
          "data": {
            "text/plain": [
              "[0,\n",
              " 2,\n",
              " 1,\n",
              " 0,\n",
              " 2,\n",
              " 0,\n",
              " 2,\n",
              " 0,\n",
              " 2,\n",
              " 1,\n",
              " 1,\n",
              " 1,\n",
              " 1,\n",
              " 0,\n",
              " 0,\n",
              " 1,\n",
              " 2,\n",
              " 0,\n",
              " 1,\n",
              " 0,\n",
              " 1,\n",
              " 0,\n",
              " 0,\n",
              " 2,\n",
              " 2,\n",
              " 1,\n",
              " 0,\n",
              " 1,\n",
              " 2,\n",
              " 1,\n",
              " 0,\n",
              " 1,\n",
              " 1,\n",
              " 0,\n",
              " 0,\n",
              " 2,\n",
              " 2,\n",
              " 0]"
            ]
          },
          "metadata": {},
          "execution_count": 65
        }
      ]
    },
    {
      "cell_type": "code",
      "source": [
        "accuracy_score(y_test_,y_pred_)"
      ],
      "metadata": {
        "colab": {
          "base_uri": "https://localhost:8080/"
        },
        "id": "2itP1BRFQr5Q",
        "outputId": "a35647c5-1201-4a34-c004-362a3a8360c6"
      },
      "execution_count": 67,
      "outputs": [
        {
          "output_type": "execute_result",
          "data": {
            "text/plain": [
              "0.9736842105263158"
            ]
          },
          "metadata": {},
          "execution_count": 67
        }
      ]
    },
    {
      "cell_type": "markdown",
      "source": [
        "Preprocessing Code\n"
      ],
      "metadata": {
        "id": "7CqGVizidJfd"
      }
    },
    {
      "cell_type": "code",
      "source": [
        "model.save(\"DL_NN.h5\")"
      ],
      "metadata": {
        "id": "H0rw9AkMdiQm"
      },
      "execution_count": 72,
      "outputs": []
    },
    {
      "cell_type": "code",
      "source": [
        "from tensorflow.keras.models import load_model"
      ],
      "metadata": {
        "id": "gPMsSM1edmH3"
      },
      "execution_count": 73,
      "outputs": []
    },
    {
      "cell_type": "code",
      "source": [
        "model = load_model(\"./DL_NN.h5\")"
      ],
      "metadata": {
        "id": "5qfTASWZgTEM"
      },
      "execution_count": 75,
      "outputs": []
    },
    {
      "cell_type": "code",
      "source": [
        "new = [0.5,0.65,0.45,0.66]\n",
        "y_prediction = model.predict([[0.5,0.65,0.45,0.66]])\n",
        "y_prediction\n"
      ],
      "metadata": {
        "colab": {
          "base_uri": "https://localhost:8080/"
        },
        "id": "vdao7uKdgTam",
        "outputId": "ed3a72d4-caaf-418a-8d72-21d4aa6fbde1"
      },
      "execution_count": 91,
      "outputs": [
        {
          "output_type": "execute_result",
          "data": {
            "text/plain": [
              "array([[0.25870168, 0.36323267, 0.3780656 ]], dtype=float32)"
            ]
          },
          "metadata": {},
          "execution_count": 91
        }
      ]
    },
    {
      "cell_type": "code",
      "source": [
        "clas = num.argmax(y_prediction)\n",
        "clas"
      ],
      "metadata": {
        "colab": {
          "base_uri": "https://localhost:8080/"
        },
        "id": "Gsm2UIM5dmLU",
        "outputId": "b7895f8d-1868-4bb0-8741-2833cef13ece"
      },
      "execution_count": 92,
      "outputs": [
        {
          "output_type": "execute_result",
          "data": {
            "text/plain": [
              "2"
            ]
          },
          "metadata": {},
          "execution_count": 92
        }
      ]
    },
    {
      "cell_type": "code",
      "source": [
        "#final_ypred = num.insert(y_pred_,2,clas)\n",
        "#final_ypred\n",
        "'''final_ypred = num.concatenate((y_pred_,[clas]))\n",
        "final_ypred'''\n",
        "final_ypred = num.append(y_pred_,clas)\n",
        "final_ypred"
      ],
      "metadata": {
        "colab": {
          "base_uri": "https://localhost:8080/"
        },
        "id": "Sk8OFhmGjxtk",
        "outputId": "55550064-e7a5-42e2-f9bb-438b0b9fb8e9"
      },
      "execution_count": 94,
      "outputs": [
        {
          "output_type": "execute_result",
          "data": {
            "text/plain": [
              "array([0, 2, 1, 0, 2, 0, 2, 0, 1, 1, 1, 1, 1, 0, 0, 1, 2, 0, 1, 0, 1, 0,\n",
              "       0, 2, 2, 1, 0, 1, 2, 1, 0, 1, 1, 0, 0, 2, 2, 0, 2])"
            ]
          },
          "metadata": {},
          "execution_count": 94
        }
      ]
    },
    {
      "cell_type": "code",
      "source": [
        "final_features = num.concatenate((features,[new]))\n",
        "final_features"
      ],
      "metadata": {
        "colab": {
          "base_uri": "https://localhost:8080/"
        },
        "id": "ekLFFxvIjx4s",
        "outputId": "595b4fc5-b676-4281-b7f2-ac5309877adb"
      },
      "execution_count": 105,
      "outputs": [
        {
          "output_type": "execute_result",
          "data": {
            "text/plain": [
              "array([[5.1 , 3.5 , 1.4 , 0.2 ],\n",
              "       [4.9 , 3.  , 1.4 , 0.2 ],\n",
              "       [4.7 , 3.2 , 1.3 , 0.2 ],\n",
              "       [4.6 , 3.1 , 1.5 , 0.2 ],\n",
              "       [5.  , 3.6 , 1.4 , 0.2 ],\n",
              "       [5.4 , 3.9 , 1.7 , 0.4 ],\n",
              "       [4.6 , 3.4 , 1.4 , 0.3 ],\n",
              "       [5.  , 3.4 , 1.5 , 0.2 ],\n",
              "       [4.4 , 2.9 , 1.4 , 0.2 ],\n",
              "       [4.9 , 3.1 , 1.5 , 0.1 ],\n",
              "       [5.4 , 3.7 , 1.5 , 0.2 ],\n",
              "       [4.8 , 3.4 , 1.6 , 0.2 ],\n",
              "       [4.8 , 3.  , 1.4 , 0.1 ],\n",
              "       [4.3 , 3.  , 1.1 , 0.1 ],\n",
              "       [5.8 , 4.  , 1.2 , 0.2 ],\n",
              "       [5.7 , 4.4 , 1.5 , 0.4 ],\n",
              "       [5.4 , 3.9 , 1.3 , 0.4 ],\n",
              "       [5.1 , 3.5 , 1.4 , 0.3 ],\n",
              "       [5.7 , 3.8 , 1.7 , 0.3 ],\n",
              "       [5.1 , 3.8 , 1.5 , 0.3 ],\n",
              "       [5.4 , 3.4 , 1.7 , 0.2 ],\n",
              "       [5.1 , 3.7 , 1.5 , 0.4 ],\n",
              "       [4.6 , 3.6 , 1.  , 0.2 ],\n",
              "       [5.1 , 3.3 , 1.7 , 0.5 ],\n",
              "       [4.8 , 3.4 , 1.9 , 0.2 ],\n",
              "       [5.  , 3.  , 1.6 , 0.2 ],\n",
              "       [5.  , 3.4 , 1.6 , 0.4 ],\n",
              "       [5.2 , 3.5 , 1.5 , 0.2 ],\n",
              "       [5.2 , 3.4 , 1.4 , 0.2 ],\n",
              "       [4.7 , 3.2 , 1.6 , 0.2 ],\n",
              "       [4.8 , 3.1 , 1.6 , 0.2 ],\n",
              "       [5.4 , 3.4 , 1.5 , 0.4 ],\n",
              "       [5.2 , 4.1 , 1.5 , 0.1 ],\n",
              "       [5.5 , 4.2 , 1.4 , 0.2 ],\n",
              "       [4.9 , 3.1 , 1.5 , 0.2 ],\n",
              "       [5.  , 3.2 , 1.2 , 0.2 ],\n",
              "       [5.5 , 3.5 , 1.3 , 0.2 ],\n",
              "       [4.9 , 3.6 , 1.4 , 0.1 ],\n",
              "       [4.4 , 3.  , 1.3 , 0.2 ],\n",
              "       [5.1 , 3.4 , 1.5 , 0.2 ],\n",
              "       [5.  , 3.5 , 1.3 , 0.3 ],\n",
              "       [4.5 , 2.3 , 1.3 , 0.3 ],\n",
              "       [4.4 , 3.2 , 1.3 , 0.2 ],\n",
              "       [5.  , 3.5 , 1.6 , 0.6 ],\n",
              "       [5.1 , 3.8 , 1.9 , 0.4 ],\n",
              "       [4.8 , 3.  , 1.4 , 0.3 ],\n",
              "       [5.1 , 3.8 , 1.6 , 0.2 ],\n",
              "       [4.6 , 3.2 , 1.4 , 0.2 ],\n",
              "       [5.3 , 3.7 , 1.5 , 0.2 ],\n",
              "       [5.  , 3.3 , 1.4 , 0.2 ],\n",
              "       [7.  , 3.2 , 4.7 , 1.4 ],\n",
              "       [6.4 , 3.2 , 4.5 , 1.5 ],\n",
              "       [6.9 , 3.1 , 4.9 , 1.5 ],\n",
              "       [5.5 , 2.3 , 4.  , 1.3 ],\n",
              "       [6.5 , 2.8 , 4.6 , 1.5 ],\n",
              "       [5.7 , 2.8 , 4.5 , 1.3 ],\n",
              "       [6.3 , 3.3 , 4.7 , 1.6 ],\n",
              "       [4.9 , 2.4 , 3.3 , 1.  ],\n",
              "       [6.6 , 2.9 , 4.6 , 1.3 ],\n",
              "       [5.2 , 2.7 , 3.9 , 1.4 ],\n",
              "       [5.  , 2.  , 3.5 , 1.  ],\n",
              "       [5.9 , 3.  , 4.2 , 1.5 ],\n",
              "       [6.  , 2.2 , 4.  , 1.  ],\n",
              "       [6.1 , 2.9 , 4.7 , 1.4 ],\n",
              "       [5.6 , 2.9 , 3.6 , 1.3 ],\n",
              "       [6.7 , 3.1 , 4.4 , 1.4 ],\n",
              "       [5.6 , 3.  , 4.5 , 1.5 ],\n",
              "       [5.8 , 2.7 , 4.1 , 1.  ],\n",
              "       [6.2 , 2.2 , 4.5 , 1.5 ],\n",
              "       [5.6 , 2.5 , 3.9 , 1.1 ],\n",
              "       [5.9 , 3.2 , 4.8 , 1.8 ],\n",
              "       [6.1 , 2.8 , 4.  , 1.3 ],\n",
              "       [6.3 , 2.5 , 4.9 , 1.5 ],\n",
              "       [6.1 , 2.8 , 4.7 , 1.2 ],\n",
              "       [6.4 , 2.9 , 4.3 , 1.3 ],\n",
              "       [6.6 , 3.  , 4.4 , 1.4 ],\n",
              "       [6.8 , 2.8 , 4.8 , 1.4 ],\n",
              "       [6.7 , 3.  , 5.  , 1.7 ],\n",
              "       [6.  , 2.9 , 4.5 , 1.5 ],\n",
              "       [5.7 , 2.6 , 3.5 , 1.  ],\n",
              "       [5.5 , 2.4 , 3.8 , 1.1 ],\n",
              "       [5.5 , 2.4 , 3.7 , 1.  ],\n",
              "       [5.8 , 2.7 , 3.9 , 1.2 ],\n",
              "       [6.  , 2.7 , 5.1 , 1.6 ],\n",
              "       [5.4 , 3.  , 4.5 , 1.5 ],\n",
              "       [6.  , 3.4 , 4.5 , 1.6 ],\n",
              "       [6.7 , 3.1 , 4.7 , 1.5 ],\n",
              "       [6.3 , 2.3 , 4.4 , 1.3 ],\n",
              "       [5.6 , 3.  , 4.1 , 1.3 ],\n",
              "       [5.5 , 2.5 , 4.  , 1.3 ],\n",
              "       [5.5 , 2.6 , 4.4 , 1.2 ],\n",
              "       [6.1 , 3.  , 4.6 , 1.4 ],\n",
              "       [5.8 , 2.6 , 4.  , 1.2 ],\n",
              "       [5.  , 2.3 , 3.3 , 1.  ],\n",
              "       [5.6 , 2.7 , 4.2 , 1.3 ],\n",
              "       [5.7 , 3.  , 4.2 , 1.2 ],\n",
              "       [5.7 , 2.9 , 4.2 , 1.3 ],\n",
              "       [6.2 , 2.9 , 4.3 , 1.3 ],\n",
              "       [5.1 , 2.5 , 3.  , 1.1 ],\n",
              "       [5.7 , 2.8 , 4.1 , 1.3 ],\n",
              "       [6.3 , 3.3 , 6.  , 2.5 ],\n",
              "       [5.8 , 2.7 , 5.1 , 1.9 ],\n",
              "       [7.1 , 3.  , 5.9 , 2.1 ],\n",
              "       [6.3 , 2.9 , 5.6 , 1.8 ],\n",
              "       [6.5 , 3.  , 5.8 , 2.2 ],\n",
              "       [7.6 , 3.  , 6.6 , 2.1 ],\n",
              "       [4.9 , 2.5 , 4.5 , 1.7 ],\n",
              "       [7.3 , 2.9 , 6.3 , 1.8 ],\n",
              "       [6.7 , 2.5 , 5.8 , 1.8 ],\n",
              "       [7.2 , 3.6 , 6.1 , 2.5 ],\n",
              "       [6.5 , 3.2 , 5.1 , 2.  ],\n",
              "       [6.4 , 2.7 , 5.3 , 1.9 ],\n",
              "       [6.8 , 3.  , 5.5 , 2.1 ],\n",
              "       [5.7 , 2.5 , 5.  , 2.  ],\n",
              "       [5.8 , 2.8 , 5.1 , 2.4 ],\n",
              "       [6.4 , 3.2 , 5.3 , 2.3 ],\n",
              "       [6.5 , 3.  , 5.5 , 1.8 ],\n",
              "       [7.7 , 3.8 , 6.7 , 2.2 ],\n",
              "       [7.7 , 2.6 , 6.9 , 2.3 ],\n",
              "       [6.  , 2.2 , 5.  , 1.5 ],\n",
              "       [6.9 , 3.2 , 5.7 , 2.3 ],\n",
              "       [5.6 , 2.8 , 4.9 , 2.  ],\n",
              "       [7.7 , 2.8 , 6.7 , 2.  ],\n",
              "       [6.3 , 2.7 , 4.9 , 1.8 ],\n",
              "       [6.7 , 3.3 , 5.7 , 2.1 ],\n",
              "       [7.2 , 3.2 , 6.  , 1.8 ],\n",
              "       [6.2 , 2.8 , 4.8 , 1.8 ],\n",
              "       [6.1 , 3.  , 4.9 , 1.8 ],\n",
              "       [6.4 , 2.8 , 5.6 , 2.1 ],\n",
              "       [7.2 , 3.  , 5.8 , 1.6 ],\n",
              "       [7.4 , 2.8 , 6.1 , 1.9 ],\n",
              "       [7.9 , 3.8 , 6.4 , 2.  ],\n",
              "       [6.4 , 2.8 , 5.6 , 2.2 ],\n",
              "       [6.3 , 2.8 , 5.1 , 1.5 ],\n",
              "       [6.1 , 2.6 , 5.6 , 1.4 ],\n",
              "       [7.7 , 3.  , 6.1 , 2.3 ],\n",
              "       [6.3 , 3.4 , 5.6 , 2.4 ],\n",
              "       [6.4 , 3.1 , 5.5 , 1.8 ],\n",
              "       [6.  , 3.  , 4.8 , 1.8 ],\n",
              "       [6.9 , 3.1 , 5.4 , 2.1 ],\n",
              "       [6.7 , 3.1 , 5.6 , 2.4 ],\n",
              "       [6.9 , 3.1 , 5.1 , 2.3 ],\n",
              "       [5.8 , 2.7 , 5.1 , 1.9 ],\n",
              "       [6.8 , 3.2 , 5.9 , 2.3 ],\n",
              "       [6.7 , 3.3 , 5.7 , 2.5 ],\n",
              "       [6.7 , 3.  , 5.2 , 2.3 ],\n",
              "       [6.3 , 2.5 , 5.  , 1.9 ],\n",
              "       [6.5 , 3.  , 5.2 , 2.  ],\n",
              "       [6.2 , 3.4 , 5.4 , 2.3 ],\n",
              "       [5.9 , 3.  , 5.1 , 1.8 ],\n",
              "       [0.5 , 0.65, 0.45, 0.66]])"
            ]
          },
          "metadata": {},
          "execution_count": 105
        }
      ]
    },
    {
      "cell_type": "code",
      "source": [
        "''' we can use the 'final_features' and 'clas' to pass through \n",
        "whole process and generate accuracy_score'''"
      ],
      "metadata": {
        "id": "nk6zf0cMvTD8"
      },
      "execution_count": null,
      "outputs": []
    }
  ]
}