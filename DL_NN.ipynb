{
 "cells": [
  {
   "cell_type": "code",
   "execution_count": 1,
   "id": "45bc9647",
   "metadata": {},
   "outputs": [],
   "source": [
    "import pandas as pan\n",
    "import numpy as num"
   ]
  },
  {
   "cell_type": "code",
   "execution_count": 2,
   "id": "0101572d",
   "metadata": {},
   "outputs": [],
   "source": [
    "#!pip install tensorflow"
   ]
  },
  {
   "cell_type": "code",
   "execution_count": null,
   "id": "3c568505",
   "metadata": {},
   "outputs": [],
   "source": [
    "from tensorflow.keras.layers import dense #NN "
   ]
  },
  {
   "cell_type": "code",
   "execution_count": null,
   "id": "b652173a",
   "metadata": {},
   "outputs": [],
   "source": [
    "from tensorflow.keras.models import sequential\n",
    "from tensorflow.keras.utils import to_categorical"
   ]
  },
  {
   "cell_type": "code",
   "execution_count": null,
   "id": "a1d3b18b",
   "metadata": {},
   "outputs": [],
   "source": [
    "from sklearn.datasets import load_iris"
   ]
  },
  {
   "cell_type": "code",
   "execution_count": null,
   "id": "6388250b",
   "metadata": {},
   "outputs": [],
   "source": [
    "data = load_iris()"
   ]
  },
  {
   "cell_type": "code",
   "execution_count": null,
   "id": "9c6eca44",
   "metadata": {},
   "outputs": [],
   "source": [
    "features = data['data']\n",
    "label = data['target']"
   ]
  },
  {
   "cell_type": "code",
   "execution_count": null,
   "id": "86af73bb",
   "metadata": {},
   "outputs": [],
   "source": [
    "label\n"
   ]
  },
  {
   "cell_type": "code",
   "execution_count": null,
   "id": "cd63552d",
   "metadata": {},
   "outputs": [],
   "source": [
    "target = to_categorical(label, num_classes = 3 )"
   ]
  },
  {
   "cell_type": "code",
   "execution_count": null,
   "id": "cd79f366",
   "metadata": {},
   "outputs": [],
   "source": []
  },
  {
   "cell_type": "code",
   "execution_count": null,
   "id": "664b4f81",
   "metadata": {},
   "outputs": [],
   "source": []
  },
  {
   "cell_type": "code",
   "execution_count": null,
   "id": "5505fe2a",
   "metadata": {},
   "outputs": [],
   "source": []
  }
 ],
 "metadata": {
  "kernelspec": {
   "display_name": "Python 3 (ipykernel)",
   "language": "python",
   "name": "python3"
  },
  "language_info": {
   "codemirror_mode": {
    "name": "ipython",
    "version": 3
   },
   "file_extension": ".py",
   "mimetype": "text/x-python",
   "name": "python",
   "nbconvert_exporter": "python",
   "pygments_lexer": "ipython3",
   "version": "3.9.12"
  }
 },
 "nbformat": 4,
 "nbformat_minor": 5
}
